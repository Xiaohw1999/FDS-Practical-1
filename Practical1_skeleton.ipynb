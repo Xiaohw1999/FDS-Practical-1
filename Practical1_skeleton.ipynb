{
 "cells": [
  {
   "cell_type": "markdown",
   "metadata": {
    "colab_type": "text",
    "id": "id1w7kwZVF3I"
   },
   "source": [
    "# Practical 1 : Implementation of Linear Regression (Ridge, Lasso)\n",
    "\n",
    "- Train a linear model\n",
    "    - using least squares method\n",
    "    - implement the model from scratch using NumPy \n",
    "    - Use learning curves plot to understand whether the linear moel is overfitting or underfitting\n",
    "- Train linear models with \n",
    "    - regularization (Ridge and Lasso)\n",
    "    - polynomial basis expansion\n",
    "    - use validation data to choose the hyperparameters\n",
    "    - scikit-learn\n",
    "    - Optional task: Use k-fold cross validation to choose the optimal hyperparameters (5 bonus points)\n",
    "\n",
    "We will use the following packages:"
   ]
  },
  {
   "cell_type": "markdown",
   "metadata": {},
   "source": [
    "This is the work of Huiran Duan()and Xiaohui Wu(21-738-604)"
   ]
  },
  {
   "cell_type": "code",
   "execution_count": 1,
   "metadata": {
    "colab": {},
    "colab_type": "code",
    "id": "CTZv9o5i4gy3"
   },
   "outputs": [],
   "source": [
    "import numpy as np\n",
    "import matplotlib.pyplot as plt\n",
    "import _pickle as cp"
   ]
  },
  {
   "cell_type": "markdown",
   "metadata": {
    "colab_type": "text",
    "id": "b1-ZQWqTVPno"
   },
   "source": [
    "We will use the winequality dataset for this practical. The dataset is available here:\n",
    "https://archive.ics.uci.edu/ml/datasets/Wine+Quality. \n",
    "In order to make it easier to import the dataset, the dataset has been converted to the numpy array format and shuffled, so that we can start the practical directly. The converted dataset is available on the OLAT page."
   ]
  },
  {
   "cell_type": "markdown",
   "metadata": {
    "colab_type": "text",
    "id": "TzDL9RQiVaPY"
   },
   "source": [
    "The dataset has two files. We’ll focus on the white wine data, which is the larger dataset. The following code loads the data:"
   ]
  },
  {
   "cell_type": "code",
   "execution_count": 2,
   "metadata": {
    "colab": {
     "base_uri": "https://localhost:8080/",
     "height": 51
    },
    "colab_type": "code",
    "executionInfo": {
     "elapsed": 1423,
     "status": "ok",
     "timestamp": 1596436129238,
     "user": {
      "displayName": "Haozhe Zhang",
      "photoUrl": "https://lh3.googleusercontent.com/a-/AOh14GhewCb1FImnjURCLugyfalL8wVXJomnuoEHUckN=s64",
      "userId": "15943369882491692800"
     },
     "user_tz": -480
    },
    "id": "NYkwbebUVO_i",
    "outputId": "80ed8916-85c3-4564-cda8-d8a8f36aaa1d"
   },
   "outputs": [
    {
     "name": "stdout",
     "output_type": "stream",
     "text": [
      "X is a (4898, 11) matrix, which contains 4898 data records and 11 features.\n",
      "y is a 4898-dimentional vector, which stores the corresponding labels of the data records in X\n",
      "[[ 7.6   0.24  0.44 ...  3.06  0.37 11.6 ]\n",
      " [ 6.9   0.41  0.33 ...  3.2   0.52  9.4 ]\n",
      " [10.    0.2   0.39 ...  3.    0.42 10.4 ]\n",
      " ...\n",
      " [ 6.3   0.48  0.04 ...  3.24  0.36  9.6 ]\n",
      " [ 5.8   0.13  0.22 ...  3.32  0.42 11.7 ]\n",
      " [ 7.8   0.32  0.33 ...  3.07  0.58  9.6 ]]\n"
     ]
    }
   ],
   "source": [
    "# load the white wine dataset\n",
    "# X is the feature matrix that stores the feature values of the data records\n",
    "# y is the label vector that stores the labels of the data records\n",
    "X, y = cp.load(open('winequality-white.pickle', 'rb'))\n",
    "\n",
    "# check the size of the data\n",
    "print(\"X is a {} matrix, which contains {} data records and {} features.\".format(X.shape, X.shape[0], X.shape[1]))\n",
    "print(\"y is a {}-dimentional vector, which stores the corresponding labels of the data records in X\".format(y.shape[0]))\n",
    "print(X)"
   ]
  },
  {
   "cell_type": "markdown",
   "metadata": {
    "colab_type": "text",
    "id": "CGuNg0KbWN0z"
   },
   "source": [
    "We next split the data into training data and test data. \n",
    "In practice, we should sample randomly 80% of the data as training data and the rest as the test data. . \n",
    "However, in order to get consistent results, we use the first 80% of the data as training\n",
    "data and the remaining as the test data. \n",
    "To achieve this split, we define the following function."
   ]
  },
  {
   "cell_type": "code",
   "execution_count": 3,
   "metadata": {
    "colab": {
     "base_uri": "https://localhost:8080/",
     "height": 85
    },
    "colab_type": "code",
    "executionInfo": {
     "elapsed": 1416,
     "status": "ok",
     "timestamp": 1596436129239,
     "user": {
      "displayName": "Haozhe Zhang",
      "photoUrl": "https://lh3.googleusercontent.com/a-/AOh14GhewCb1FImnjURCLugyfalL8wVXJomnuoEHUckN=s64",
      "userId": "15943369882491692800"
     },
     "user_tz": -480
    },
    "id": "6ZqbBa8bWNYg",
    "outputId": "da274c4e-c3ed-4ac0-8442-27befcf26f4c"
   },
   "outputs": [
    {
     "name": "stdout",
     "output_type": "stream",
     "text": [
      "Shape of X_train: (3918, 11)\n",
      "Shape of y_train: (3918,)\n",
      "Shape of X_test: (980, 11)\n",
      "Shape of y_test: (980,)\n"
     ]
    }
   ],
   "source": [
    "# The function splits the dataset into training data and testing data.\n",
    "# The parameter split_coeff is a percentage value such that\n",
    "# the first split_coeff of the dataset goes to the training dataset \n",
    "# and the remaining data goes to the test dataset.\n",
    "def split_data(X, y, split_coeff):\n",
    "    N, _ = X.shape # get the number of records (rows)\n",
    "    train_size = int(split_coeff * N) # use the first split_coeff of the data as the training data\n",
    "    X_train = X[:train_size] # the first training_size records\n",
    "    y_train = y[:train_size]\n",
    "    X_test = X[train_size:] # the last test_size records\n",
    "    y_test = y[train_size:]\n",
    "    return X_train, y_train, X_test, y_test\n",
    "\n",
    "X_train, y_train, X_test, y_test = split_data(X, y, 0.8) # split the data with split_coeff=0.8\n",
    "\n",
    "# check the size of the splitted dataset\n",
    "print(\"Shape of X_train:\", X_train.shape)\n",
    "print(\"Shape of y_train:\", y_train.shape)\n",
    "print(\"Shape of X_test:\", X_test.shape)\n",
    "print(\"Shape of y_test:\", y_test.shape)"
   ]
  },
  {
   "cell_type": "markdown",
   "metadata": {
    "colab_type": "text",
    "id": "q2yKNR49Wkn8"
   },
   "source": [
    "## Understanding What We’re Predicting\n",
    "\n",
    "Let’s first check\n",
    "the distribution of the y-values in the training data. \n",
    "You will find that the values are integers between 3 and 9 indicating the quality of the wine.\n"
   ]
  },
  {
   "cell_type": "markdown",
   "metadata": {
    "colab_type": "text",
    "id": "-PMpsZNSWthB"
   },
   "source": [
    "### **Task 1**\n",
    "Make a bar chart showing the distribution of y-values in the training data. You will find that the y-values are integers from 3 to 9, which indicate the quality of the wines."
   ]
  },
  {
   "cell_type": "code",
   "execution_count": 4,
   "metadata": {
    "cellView": "both",
    "colab": {
     "base_uri": "https://localhost:8080/",
     "height": 295
    },
    "colab_type": "code",
    "executionInfo": {
     "elapsed": 1409,
     "status": "ok",
     "timestamp": 1596436129240,
     "user": {
      "displayName": "Haozhe Zhang",
      "photoUrl": "https://lh3.googleusercontent.com/a-/AOh14GhewCb1FImnjURCLugyfalL8wVXJomnuoEHUckN=s64",
      "userId": "15943369882491692800"
     },
     "user_tz": -480
    },
    "id": "4L_JDK3dWrsR",
    "outputId": "71b22bf6-77ce-4bd6-d5b1-61f633923144"
   },
   "outputs": [
    {
     "data": {
      "image/png": "[encoded data removed]",
      "text/plain": [
       "<Figure size 432x288 with 1 Axes>"
      ]
     },
     "metadata": {
      "needs_background": "light"
     },
     "output_type": "display_data"
    }
   ],
   "source": [
    "#@title\n",
    "# Task 1: \n",
    "# the function takes the y-values in the training data as the input and makes the bar chart. \n",
    "# Hint: Your function should make a bar chart looks like the bar chart below.\n",
    "def plot_bar_chart_score(y_train):\n",
    "    dict_y = {} \n",
    "    for item in y_train:\n",
    "        dict_y[item] = dict_y.get(item, 0) + 1 # get the number of wines of each score, return to a dict\n",
    "    plt.bar(dict_y.keys(), dict_y.values())\n",
    "    plt.xlabel('Score')\n",
    "    plt.ylabel('Number of wines')\n",
    "    plt.title('Distriibution of score of wines')\n",
    "\n",
    "plot_bar_chart_score(y_train)"
   ]
  },
  {
   "cell_type": "markdown",
   "metadata": {
    "colab_type": "text",
    "id": "GxjlElni2FcH"
   },
   "source": [
    "### **Task 2** \n",
    "This task is to build a trivial predictor, which always returns the mean of the y-values of the training data. We consider the trivial model as a baseline. The linear regression models we build later should perform better than this trivial model. "
   ]
  },
  {
   "cell_type": "code",
   "execution_count": 5,
   "metadata": {
    "colab": {
     "base_uri": "https://localhost:8080/",
     "height": 34
    },
    "colab_type": "code",
    "executionInfo": {
     "elapsed": 1402,
     "status": "ok",
     "timestamp": 1596436129240,
     "user": {
      "displayName": "Haozhe Zhang",
      "photoUrl": "https://lh3.googleusercontent.com/a-/AOh14GhewCb1FImnjURCLugyfalL8wVXJomnuoEHUckN=s64",
      "userId": "15943369882491692800"
     },
     "user_tz": -480
    },
    "id": "-V3xFYexX1lt",
    "outputId": "5e57738e-87d5-408c-f1bf-9df66a175f35"
   },
   "outputs": [
    {
     "name": "stdout",
     "output_type": "stream",
     "text": [
      "Average of y on the training label values is 5.878764675855028\n"
     ]
    }
   ],
   "source": [
    "#@title\n",
    "# Task 2: implement the trivial predictor\n",
    "# The function computes the average value of y on the training label values\n",
    "def compute_average(y_train):\n",
    "    avg_y_trian = np.mean(y_train)\n",
    "    return avg_y_trian\n",
    "\n",
    "y_train_avg = compute_average(y_train)\n",
    "print(\"Average of y on the training label values is {}\".format(y_train_avg))\n",
    "\n",
    "# The trivial predictor returns the average value.\n",
    "def trivial_predictor(X_test, y_train_avg):\n",
    "    return y_train_avg\n"
   ]
  },
  {
   "cell_type": "markdown",
   "metadata": {
    "colab_type": "text",
    "id": "x531Q_SxXV14"
   },
   "source": [
    "### **Task 3**\n",
    "We next evaluate the trivial predictor on the training data and test data. \n",
    "We use mean squared error (MSE) to measure the performance of the predictor.\n",
    "The task is to implement a function that reports the mean squared error of the given predictor on the given data. "
   ]
  },
  {
   "cell_type": "code",
   "execution_count": 6,
   "metadata": {
    "colab": {
     "base_uri": "https://localhost:8080/",
     "height": 102
    },
    "colab_type": "code",
    "executionInfo": {
     "elapsed": 1394,
     "status": "ok",
     "timestamp": 1596436129240,
     "user": {
      "displayName": "Haozhe Zhang",
      "photoUrl": "https://lh3.googleusercontent.com/a-/AOh14GhewCb1FImnjURCLugyfalL8wVXJomnuoEHUckN=s64",
      "userId": "15943369882491692800"
     },
     "user_tz": -480
    },
    "id": "mV8l6Ci9YlgL",
    "outputId": "f57858dc-d0fc-40fe-dbf7-c652d2f8fddb"
   },
   "outputs": [
    {
     "name": "stdout",
     "output_type": "stream",
     "text": [
      "Trivial Predictor\n",
      "--------------------------------------------------------------------------------\n",
      "\n",
      "MSE (Training) = 0.7768\n",
      "MSE (Testing)  = 0.8139\n"
     ]
    }
   ],
   "source": [
    "# We next test our trivial predictor on the training data and test data. \n",
    "# Implement a function that can report the mean squared error \n",
    "# of a predictor on the given data\n",
    "# Input: data and predictor\n",
    "# Output: mean squared error of the predictor on the given data\n",
    "def test_predictor(X, y, predictor: callable=None):\n",
    "    # Apply the predictor to each row of the matrix X to get the predictions\n",
    "    y_predicted = np.apply_along_axis(predictor, 1, X)\n",
    "    mse = np.dot((y-y_predicted).T, (y-y_predicted))/(len(y))\n",
    "    return mse\n",
    "\n",
    "# use the function test_predictor to test the trivial predictor\n",
    "# we use the lambda function here to pass the function trivial predictor to the function test_predictor.\n",
    "mse_trivial_predictor_train = test_predictor(X_train, y_train, lambda x: trivial_predictor(x, y_train_avg))\n",
    "mse_trivial_predictor_test = test_predictor(X_test, y_test, lambda x: trivial_predictor(x, y_train_avg))\n",
    "\n",
    "# Report the result\n",
    "print('Trivial Predictor')\n",
    "print('--------------------------------------------------------------------------------\\n')\n",
    "print('MSE (Training) = %.4f' % mse_trivial_predictor_train)\n",
    "print('MSE (Testing)  = %.4f' % mse_trivial_predictor_test)"
   ]
  },
  {
   "cell_type": "markdown",
   "metadata": {
    "colab_type": "text",
    "id": "geiyM1Nea0az"
   },
   "source": [
    "## Train the Linear Model Using Least Squares Method\n",
    "\n",
    "Let us train a linear model on the training data and then check its MSE. \n",
    "We use the closed form solution of the least squares estimate to get the parameters of the linear model. \n",
    "The linear model should perform better than the trivial predictor."
   ]
  },
  {
   "cell_type": "markdown",
   "metadata": {
    "colab_type": "text",
    "id": "WSEwFGp_bqAI"
   },
   "source": [
    "### **Task 4**\n",
    "Before training the model, we need to standardize the data, i.e., transform the data so that every feature has mean 0 and variance 1. \n",
    "\n",
    "https://en.wikipedia.org/wiki/Standard_score\n",
    "\n",
    "We first standardize the training data. \n",
    "Then we apply the same transformation to the test data, i.e. standardize the test data using the means and the standard deviations of the training data. "
   ]
  },
  {
   "cell_type": "code",
   "execution_count": 7,
   "metadata": {
    "colab": {
     "base_uri": "https://localhost:8080/",
     "height": 68
    },
    "colab_type": "code",
    "executionInfo": {
     "elapsed": 1387,
     "status": "ok",
     "timestamp": 1596436129241,
     "user": {
      "displayName": "Haozhe Zhang",
      "photoUrl": "https://lh3.googleusercontent.com/a-/AOh14GhewCb1FImnjURCLugyfalL8wVXJomnuoEHUckN=s64",
      "userId": "15943369882491692800"
     },
     "user_tz": -480
    },
    "id": "trjwkcgybhDH",
    "outputId": "d87a4635-354f-47e2-947a-e843f027e4cb"
   },
   "outputs": [
    {
     "name": "stdout",
     "output_type": "stream",
     "text": [
      "X_train_std: (3918, 11)\n",
      "Mean: [6.85427514e+00 2.78390761e-01 3.34892802e-01 6.42623788e+00\n",
      " 4.58213374e-02 3.53263144e+01 1.38513272e+02 9.94040729e-01\n",
      " 3.18647524e+00 4.89055641e-01 1.05115799e+01]\n",
      "Standard deviation: [8.39100902e-01 9.95630176e-02 1.24249975e-01 5.06377532e+00\n",
      " 2.16660282e-02 1.71004677e+01 4.23956179e+01 2.97972269e-03\n",
      " 1.49949475e-01 1.12992053e-01 1.22536544e+00]\n"
     ]
    }
   ],
   "source": [
    "# The task is to implement a function that can standardize the data and returns the mean and std of the data.\n",
    "# Input: training data\n",
    "# Output: standardize training data, standard deviations and means\n",
    "\n",
    "def standardize_data(X):\n",
    "    # TODO: compute the means and standard deviations of the data, and standardize the data\n",
    "    mean = np.mean(X, axis = 0) # standardize by column\n",
    "    std = np.std(X, axis = 0)\n",
    "    X_std = (X-mean)/std\n",
    "    return X_std, mean, std\n",
    "\n",
    "# Standardize the training data and store the means and the stds \n",
    "X_train_std, X_train_mean, X_train_std_div = standardize_data(X_train)\n",
    "print(\"X_train_std:\", X_train_std.shape)\n",
    "print(\"Mean:\", X_train_mean)\n",
    "print(\"Standard deviation:\", X_train_std_div)"
   ]
  },
  {
   "cell_type": "code",
   "execution_count": 8,
   "metadata": {
    "colab": {
     "base_uri": "https://localhost:8080/",
     "height": 102
    },
    "colab_type": "code",
    "executionInfo": {
     "elapsed": 1380,
     "status": "ok",
     "timestamp": 1596436129242,
     "user": {
      "displayName": "Haozhe Zhang",
      "photoUrl": "https://lh3.googleusercontent.com/a-/AOh14GhewCb1FImnjURCLugyfalL8wVXJomnuoEHUckN=s64",
      "userId": "15943369882491692800"
     },
     "user_tz": -480
    },
    "id": "RjzbA5JpM759",
    "outputId": "ff594788-2fdd-419c-98fa-beac6a53cfc9"
   },
   "outputs": [
    {
     "name": "stdout",
     "output_type": "stream",
     "text": [
      "[[-0.18385767  0.61879643  1.65076248 ... -0.97683064  0.62787034\n",
      "  -1.39679138]\n",
      " [ 1.24624447  0.51835753 -0.44179327 ... -0.24325022 -0.96516204\n",
      "  -1.39679138]\n",
      " [ 0.41201822  0.31747972  0.12158713 ... -0.30993935  0.36236495\n",
      "  -0.66231661]\n",
      " ...\n",
      " [-0.66055839  2.02494103 -2.37338318 ...  0.35695195 -1.14216564\n",
      "  -0.74392492]\n",
      " [-1.25643428 -1.49042048 -0.92469075 ...  0.89046499 -0.61115484\n",
      "   0.96984954]\n",
      " [ 1.12706929  0.41791862 -0.0393787  ... -0.77676326  0.80487394\n",
      "  -0.74392492]]\n"
     ]
    }
   ],
   "source": [
    "# TODO: Standardize the test data using the means and standrad deviations of the training data\n",
    "\n",
    "X_test_std = (X_test-X_train_mean)/X_train_std_div\n",
    "print(X_test_std)\n"
   ]
  },
  {
   "cell_type": "markdown",
   "metadata": {
    "colab_type": "text",
    "id": "cRPPA6HMbNOr"
   },
   "source": [
    "### **Task 5**\n",
    "We have standardized X-values. Do we need to standardize the y-values? Why?"
   ]
  },
  {
   "cell_type": "markdown",
   "metadata": {
    "colab_type": "text",
    "id": "9he5QMmfqL3_"
   },
   "source": [
    "NO, it does not force us to standardize the y_values.\n",
    "\n",
    "When do we need to standardize the data? The scale of some features and the magnitude of the values are different, then their influence on y_values will be different, and through normalization, it can make different features have the same scale. Briefly speeking, When the scales (units) of features in different dimensions of the original data are inconsistent, standardization steps are required to preprocess the data.\n",
    "\n",
    "The arguments to standardize X in this cases do not apply to y_values, but if we want you can standardize y_values too, it may do no harm, but can complicate interpretations."
   ]
  },
  {
   "cell_type": "markdown",
   "metadata": {
    "colab_type": "text",
    "id": "vT4_Sl42bxmD"
   },
   "source": [
    "### **Task 6**\n",
    "Let's now train the linear model using the least-squares method. \n",
    "We need to add the bias term to the matrix X. "
   ]
  },
  {
   "cell_type": "code",
   "execution_count": 9,
   "metadata": {
    "colab": {
     "base_uri": "https://localhost:8080/",
     "height": 34
    },
    "colab_type": "code",
    "executionInfo": {
     "elapsed": 1374,
     "status": "ok",
     "timestamp": 1596436129242,
     "user": {
      "displayName": "Haozhe Zhang",
      "photoUrl": "https://lh3.googleusercontent.com/a-/AOh14GhewCb1FImnjURCLugyfalL8wVXJomnuoEHUckN=s64",
      "userId": "15943369882491692800"
     },
     "user_tz": -480
    },
    "id": "A4JtLr6pdJV7",
    "outputId": "dfd57312-284f-4ce9-820b-4fdbdfbec8c4",
    "scrolled": true
   },
   "outputs": [
    {
     "name": "stdout",
     "output_type": "stream",
     "text": [
      "w: [ 5.87876468e+00  5.70365710e-02 -1.83384219e-01 -4.04067444e-03\n",
      "  4.09097280e-01 -8.17517111e-03  5.92929519e-02 -3.56633675e-03\n",
      " -4.36936781e-01  9.87381160e-02  6.53325059e-02  2.42495455e-01] (12,)\n"
     ]
    }
   ],
   "source": [
    "# The task is to implement the function that adds a column of ones to the front of the input matrix\n",
    "def expand_with_ones(X):\n",
    "    # TODO: add a column of ones to the front of the input matrix\n",
    "    row_X = X.shape[0]\n",
    "    X_1 = np.ones(row_X)\n",
    "    X = np.c_[X_1, X]\n",
    "    X_out = X\n",
    "    return X_out\n",
    "\n",
    "# Train the linear model using the least-squares method\n",
    "# The task is to implement the function that computes the parameters\n",
    "def least_squares_compute_parameters(X_input, y):\n",
    "    # add the bias column to the data\n",
    "    X = expand_with_ones(X_input)\n",
    "\n",
    "    # TODO: compute the parameters based on the expanded X and y using the least-squares method\n",
    "    \n",
    "    learningRate = 0.01\n",
    "    loopnum = 100000\n",
    "    w = np.ones(X.shape[1])\n",
    "    # b = np.array([1])\n",
    "    \n",
    "    for num in range(loopnum):\n",
    "        y_hat = np.dot(X, w)\n",
    "        # y_hat = np.dot(X, w) + b\n",
    "        loss = np.dot((y-y_hat).T, (y-y_hat))/(len(y))\n",
    "        w_gradient = -(1/X.shape[0])*np.dot((y-y_hat).T,X)\n",
    "        # b_gradient = -1*np.dot((y-y_hat).T,np.ones(shape=[X.shape[0],1]))/X.shape[0]\n",
    "        w = w-learningRate*w_gradient\n",
    "        # b=b-learningRate*b_gradient\n",
    "#         if num%50 == 0:\n",
    "#             print(loss)     \n",
    "    return w\n",
    "\n",
    "# Apply the function to train the linear model\n",
    "w = least_squares_compute_parameters(X_train_std, y_train) \n",
    "print(\"w:\", w, w.shape)"
   ]
  },
  {
   "cell_type": "markdown",
   "metadata": {
    "colab_type": "text",
    "id": "lasj_1PpeZib"
   },
   "source": [
    "After computing the parameters,\n",
    "we can build the linear model predictor.\n",
    "The predictor takes as input the computed parameters and the data, and predicts the labels for the input data."
   ]
  },
  {
   "cell_type": "code",
   "execution_count": 10,
   "metadata": {
    "colab": {},
    "colab_type": "code",
    "id": "Lb-hNagxc3Wj"
   },
   "outputs": [],
   "source": [
    "# Implement the linear model predictor\n",
    "# Input: test data and parameters\n",
    "# Output: predicted values\n",
    "def linear_model_predictor(X, w):\n",
    "    # TODO: predict the labels for the input data\n",
    "    y_predict = np.dot(X, w)    \n",
    "    return y_predict"
   ]
  },
  {
   "cell_type": "markdown",
   "metadata": {
    "colab_type": "text",
    "id": "cFOYpwbufz7J"
   },
   "source": [
    "We can now evaluate our linear model predictor on the test data. "
   ]
  },
  {
   "cell_type": "code",
   "execution_count": 11,
   "metadata": {
    "colab": {
     "base_uri": "https://localhost:8080/",
     "height": 34
    },
    "colab_type": "code",
    "executionInfo": {
     "elapsed": 1363,
     "status": "ok",
     "timestamp": 1596436129243,
     "user": {
      "displayName": "Haozhe Zhang",
      "photoUrl": "https://lh3.googleusercontent.com/a-/AOh14GhewCb1FImnjURCLugyfalL8wVXJomnuoEHUckN=s64",
      "userId": "15943369882491692800"
     },
     "user_tz": -480
    },
    "id": "LuHHmn2RB55j",
    "outputId": "b6cb4556-2618-419a-a082-214f2e6ecb5e"
   },
   "outputs": [
    {
     "name": "stdout",
     "output_type": "stream",
     "text": [
      "Mean squared error is 0.5607292042286587\n"
     ]
    }
   ],
   "source": [
    "# use the function test_predictor to evaluate the linear model predictor\n",
    "mse_linear_model_predictor = test_predictor(expand_with_ones(X_test_std), y_test, lambda x: linear_model_predictor(x, w))\n",
    "print(\"Mean squared error is {}\".format(mse_linear_model_predictor))"
   ]
  },
  {
   "cell_type": "markdown",
   "metadata": {
    "colab_type": "text",
    "id": "zqj4HKAihF7Q"
   },
   "source": [
    "## Learning Curves\n",
    "\n",
    "Let us check if the linear model is overfitting or underfitting. Since the dataset is somewhat large and there are only 11 features, the model shouldn't be overfitting. \n",
    "To check it, we need to check the learning curves, i.e. how the performance of the model changes when it is trained with increasingly more data. \n",
    "We train the model on the increasingly more data ([20, 40, ..., 600] data records), and evaluate the model by computing the MSE of the model on both the training data and the test data. \n",
    "We use the collected MSE to build the learning curves plot. "
   ]
  },
  {
   "cell_type": "markdown",
   "metadata": {
    "colab_type": "text",
    "id": "MNf11kurCgKF"
   },
   "source": [
    "### **Task 7** \n",
    "\n",
    "Let's first implement a function that comprises what we have implemented above. \n",
    "The function takes as inputs the data and the split coefficient, and\n",
    "1. standardizes the data,\n",
    "2. trains the linear model, and\n",
    "3. reports the mse of the linear model predictor on both training and test datasets. "
   ]
  },
  {
   "cell_type": "code",
   "execution_count": 12,
   "metadata": {
    "colab": {
     "base_uri": "https://localhost:8080/",
     "height": 102
    },
    "colab_type": "code",
    "executionInfo": {
     "elapsed": 1355,
     "status": "ok",
     "timestamp": 1596436129244,
     "user": {
      "displayName": "Haozhe Zhang",
      "photoUrl": "https://lh3.googleusercontent.com/a-/AOh14GhewCb1FImnjURCLugyfalL8wVXJomnuoEHUckN=s64",
      "userId": "15943369882491692800"
     },
     "user_tz": -480
    },
    "id": "UcGRQBrEb106",
    "outputId": "179c5ec0-ee87-4c4b-a02b-d97d55862e1f"
   },
   "outputs": [
    {
     "name": "stdout",
     "output_type": "stream",
     "text": [
      "Linear Model\n",
      "-----------------------\n",
      "\n",
      "MSE (Training) = 0.5640\n",
      "MSE (Testing)  = 0.5607\n"
     ]
    }
   ],
   "source": [
    "# Input: training data and test data\n",
    "# Output: mse of the linear model predictor on both the training and test data\n",
    "def train_and_test(X_train, y_train, X_test, y_test):\n",
    "    # TODO: implement the function \n",
    "    X_tr, X_tr_mean, X_tr_std = standardize_data(X_train)\n",
    "    X_te = (X_test-X_tr_mean)/X_tr_std\n",
    "    w_tr = least_squares_compute_parameters(X_tr, y_train)\n",
    "    mse_train = test_predictor(expand_with_ones(X_tr), y_train, lambda x: linear_model_predictor(x, w_tr))\n",
    "    mse_test = test_predictor(expand_with_ones(X_te), y_test, lambda x: linear_model_predictor(x, w_tr))\n",
    "    # Hints: use the functions you have implemented\n",
    "    return mse_train, mse_test\n",
    "\n",
    "\n",
    "mse_train, mse_test = train_and_test(X_train, y_train, X_test, y_test)\n",
    "print('Linear Model')\n",
    "print('-----------------------\\n')\n",
    "print('MSE (Training) = %.4f' % mse_train)\n",
    "print('MSE (Testing)  = %.4f' % mse_test)\n"
   ]
  },
  {
   "cell_type": "markdown",
   "metadata": {
    "colab_type": "text",
    "id": "NTJw_BrzhRwi"
   },
   "source": [
    "We are now ready to report the learning curves.\n",
    "The task is to train the linear model on the increasingly more data ([20, 40, ..., 600] data records)\n",
    "and store the MSE of the trained model on the training data and the test data in the lists `mse_train_v` and `mse_test`, respectively. \n",
    "We have provided the code for generating the learning curves from `mse_train_v` and `mse_test`."
   ]
  },
  {
   "cell_type": "code",
   "execution_count": 15,
   "metadata": {
    "colab": {
     "base_uri": "https://localhost:8080/",
     "height": 279
    },
    "colab_type": "code",
    "executionInfo": {
     "elapsed": 1747,
     "status": "ok",
     "timestamp": 1596436129644,
     "user": {
      "displayName": "Haozhe Zhang",
      "photoUrl": "https://lh3.googleusercontent.com/a-/AOh14GhewCb1FImnjURCLugyfalL8wVXJomnuoEHUckN=s64",
      "userId": "15943369882491692800"
     },
     "user_tz": -480
    },
    "id": "jDsdh4T3hcIU",
    "outputId": "621c4890-1c55-4e9b-f28f-33d60907d8b9"
   },
   "outputs": [
    {
     "data": {
      "image/png": "[encoded data removed]",
      "text/plain": [
       "<Figure size 432x288 with 1 Axes>"
      ]
     },
     "metadata": {
      "needs_background": "light"
     },
     "output_type": "display_data"
    }
   ],
   "source": [
    "mse_train_v = []\n",
    "mse_test_v = []\n",
    "\n",
    "TRAINING_SIZE_MAX = 601\n",
    "TRAINING_SIZE_MIN = 20\n",
    "\n",
    "# compute the MSE over data with sizes from TRAINING_SIZE_MIN to TRAINING_SIZE_MAX with increasing step 20\n",
    "for train_size in range(TRAINING_SIZE_MIN, TRAINING_SIZE_MAX, 20):\n",
    "    # TODO: \n",
    "    #   1. use the first train_size data records from the X_train and y_train as the training data\n",
    "    #   2. train and compute the MSE on both training and test data using the train_and_test function\n",
    "    #   3. add the computed MSE to the lists mse_train_v and mse_test_v\n",
    "    x_train_v = X_train[:train_size]\n",
    "    y_train_v = y_train[:train_size]\n",
    "    mse_train, mse_test = train_and_test(x_train_v, y_train_v, X_test, y_test)\n",
    "    mse_train_v.append(mse_train)\n",
    "    mse_test_v.append(mse_test)\n",
    "\n",
    "\n",
    "# The below code generates the learning curves plot\n",
    "plt.figure(2)\n",
    "plt.plot(np.arange(TRAINING_SIZE_MIN, TRAINING_SIZE_MAX, 20), mse_train_v, 'r--', label=\"Training Error\")\n",
    "plt.plot(np.arange(TRAINING_SIZE_MIN, TRAINING_SIZE_MAX, 20), mse_test_v, 'b-', label=\"Test Error\")\n",
    "plt.xlabel('Dataset Size')\n",
    "plt.ylabel('Mean Squared Error')\n",
    "plt.legend()\n",
    "plt.show()"
   ]
  },
  {
   "cell_type": "markdown",
   "metadata": {},
   "source": [
    "### **Task 8**\n",
    "Explain whether you think the model is underfitting or not and how much data you need before getting the optimal test error."
   ]
  },
  {
   "cell_type": "markdown",
   "metadata": {
    "colab_type": "text",
    "id": "9A9VqDTzOdfd"
   },
   "source": [
    "My model is NOT underfitting or overfitting. \n",
    "Because we know that \"high bias\" means underfitting and \"low bias high variance\" means overfitting.\n",
    "However,the mean square error of the training and test data meet and stay at a more stable position.\n",
    "We can find the traning error reach the bottom at 450 and test error still remained stable, that means it is hard to reduce the MSE by adding more data after the dataset size is around 450.\n",
    "So we need about 450 dataset size before getting the optimal test error."
   ]
  },
  {
   "cell_type": "markdown",
   "metadata": {
    "colab_type": "text",
    "id": "djpsaTu_kK3T"
   },
   "source": [
    "## Polynomial Basis Expansion and Regularisation\n",
    "\n",
    "In this part, we will try to improve the linear model by basis expansion and regularisation. \n",
    "\n",
    "The task is to \n",
    "1. apply the degree 2 basis expansion to the data, \n",
    "2. build the Ridge and Lasso models using scikit-learn, and\n",
    "3. perform hyperparameter optimization to find the optimal hyperparameter lambda. \n",
    "\n",
    "For the hyperparameter optimization, you should set the last 20% of the training data for the purpose of validation and \n",
    "try lambda values [10^-4, 10^-3, 10^-2, 10^-1, 1, 10, 100]. \n",
    "\n",
    "\n",
    "We will use the scikit-learn package. You can import other scikit-learn packages if you think they are useful. Read the documentation available here: http://scikit-learn.org/stable/modules/classes.html"
   ]
  },
  {
   "cell_type": "code",
   "execution_count": 68,
   "metadata": {
    "colab": {},
    "colab_type": "code",
    "id": "9TM0nkNbkhfM"
   },
   "outputs": [],
   "source": [
    "# import the preprocessing libs for standarization and basis expansion\n",
    "from sklearn.preprocessing import StandardScaler, PolynomialFeatures \n",
    "\n",
    "# Ridge and Lasso linear model\n",
    "from sklearn.linear_model import Ridge, Lasso "
   ]
  },
  {
   "cell_type": "markdown",
   "metadata": {
    "colab_type": "text",
    "id": "pCwBPuOXlRF7"
   },
   "source": [
    "### **Task 9**\n",
    "Let's implement the function for expanding the basis of the dataset. \n",
    "\n",
    "Hints: use `PolynomialFeatures`"
   ]
  },
  {
   "cell_type": "code",
   "execution_count": 69,
   "metadata": {},
   "outputs": [],
   "source": [
    "X, y = cp.load(open('winequality-white.pickle', 'rb'))"
   ]
  },
  {
   "cell_type": "code",
   "execution_count": 70,
   "metadata": {
    "colab": {},
    "colab_type": "code",
    "id": "50azFolql1qA"
   },
   "outputs": [
    {
     "name": "stdout",
     "output_type": "stream",
     "text": [
      "[[1.0000e+00 7.6000e+00 2.4000e-01 ... 1.3690e-01 4.2920e+00 1.3456e+02]\n",
      " [1.0000e+00 6.9000e+00 4.1000e-01 ... 2.7040e-01 4.8880e+00 8.8360e+01]\n",
      " [1.0000e+00 1.0000e+01 2.0000e-01 ... 1.7640e-01 4.3680e+00 1.0816e+02]\n",
      " ...\n",
      " [1.0000e+00 6.3000e+00 4.8000e-01 ... 1.2960e-01 3.4560e+00 9.2160e+01]\n",
      " [1.0000e+00 5.8000e+00 1.3000e-01 ... 1.7640e-01 4.9140e+00 1.3689e+02]\n",
      " [1.0000e+00 7.8000e+00 3.2000e-01 ... 3.3640e-01 5.5680e+00 9.2160e+01]]\n"
     ]
    }
   ],
   "source": [
    "def expand_basis(X, degree):\n",
    "    # TODO: expand the basis of X for the input degree\n",
    "    poly = PolynomialFeatures(degree)\n",
    "    X = poly.fit_transform(X)\n",
    "    # Hints: use the function PolynomialFeatures\n",
    "    return X\n",
    "\n",
    "print(expand_basis(X, 2))"
   ]
  },
  {
   "cell_type": "markdown",
   "metadata": {
    "colab_type": "text",
    "id": "6jwkPevimQri"
   },
   "source": [
    "### **Task 10**\n",
    "We need to expand and standardize the the data,\n",
    "and prepare the training, test and validation data on the expanded data. \n",
    "You should set the last 20% of the training data as the validation data.\n",
    "\n",
    "Hints: use `StandardScaler` and `std_scaler` to standardize the data"
   ]
  },
  {
   "cell_type": "code",
   "execution_count": 71,
   "metadata": {
    "colab": {},
    "colab_type": "code",
    "id": "dQCq4G9YmW7w"
   },
   "outputs": [
    {
     "name": "stdout",
     "output_type": "stream",
     "text": [
      "(3918, 78) (3134, 78) (784, 78) (980, 78)\n"
     ]
    }
   ],
   "source": [
    "def prepare_data(X, y, degree):\n",
    "    # TODO: the training, test and validation data using the expanded dataset.\n",
    "    \n",
    "    # Hints: follow the steps\n",
    "    \n",
    "    # 1. split the data (X, y) into training data (X_train, y_train) and test data (X_test, y_test)\n",
    "    X_train, y_train, X_test, y_test = split_data(X, y, 0.8)\n",
    "\n",
    "    # 2. standardize the training data and do the same transformation to the test data\n",
    "    s = StandardScaler()\n",
    "    s.fit(X_train)\n",
    "    X_train = s.transform(X_train)\n",
    "    s_mean = s.mean_\n",
    "    s_scale = s.scale_\n",
    "    X_test = (X_test-s_mean)/s_scale\n",
    "\n",
    "    # 3. expand the basis of the training data and test data\n",
    "    X_train = expand_basis(X_train, degree)\n",
    "    X_test = expand_basis(X_test, degree)\n",
    " \n",
    "    # 4. standardize the training data again and do the same transformation to the test data\n",
    "    \n",
    "    s.fit(X_train)\n",
    "    X_train = s.transform(X_train)\n",
    "    s_mean = s.mean_\n",
    "    s_scale = s.scale_\n",
    "    X_test = (X_test-s_mean)/s_scale\n",
    "    \n",
    "    # 5. split the expanded training data into training data (X_train_n, y_train_n) and validation data (X_train_v, y_train_v)\n",
    "    X_train_n, y_train_n, X_train_v, y_train_v = split_data(X_train, y_train, 0.8)\n",
    "\n",
    "    \n",
    "    # 6. standardize the training data and do the same transformation to the validation data\n",
    "    s.fit(X_train_n)\n",
    "    s_mean = s.mean_\n",
    "    s_scale = s.scale_\n",
    "    \n",
    "    X_train_n = s.transform(X_train_n)\n",
    "    X_train_v = (X_train_v-s_mean)/s_scale\n",
    "\n",
    "    return X_train, y_train, X_train_n, y_train_n, X_train_v, y_train_v, X_test, y_test\n",
    "\n",
    "\n",
    "X_train, y_train, X_train_n, y_train_n, X_train_v, y_train_v, X_test, y_test = prepare_data(X, y, 2) # here we expand the dataset with degree 2\n",
    "print(np.shape(X_train), np.shape(X_train_n), np.shape(X_train_v), np.shape(X_test))"
   ]
  },
  {
   "cell_type": "markdown",
   "metadata": {},
   "source": [
    "**Why standardisation is required before basis expansion?**\n",
    "\n",
    "Assume we have a dataset with two features x1 and x2, where x1 has a small scale while x2 has a large scale. When we perform basis expansion, we  get a new feature x1x2. Since x2 has a larger scale than x1, it is likely x2 will contribute more to the value of the new feature x1x2, which means a bias is introduce here. \n",
    "The correct way is to standardise the features before the basis expansion. In this case x1 and x2 have the same scale, so they contribute same to the new feature x1x2, i.e. no bias is introduced. \n",
    "\n",
    "\n",
    "**Why standardise the training data in step 5?**\n",
    "\n",
    "Ridge and Lasso regularisation require the data to have mean of 0 and standard deviation of 1. However, after the basis expansion and splitting in step 4, the training data might not have the desired distribution, so we need to perform the standardisation on the training data. \n",
    "\n",
    " \n",
    "**Why not standardise both training and validation data together?**\n",
    "\n",
    "When we use validation data to chose the hyperparameters, we treat the validation data like the test data -- we should not assume we can access these data. So we should standardise the training data and perform the same operation to the validation data. "
   ]
  },
  {
   "cell_type": "markdown",
   "metadata": {
    "colab_type": "text",
    "id": "i3BxxtM3nghU"
   },
   "source": [
    "### **Task 11**\n",
    "We have prepared the training data and the validation data. We can now choose the hyperparameter lambda for Ridge and Lasso using the validation data. \n",
    "We use the Ridge and Lasso models from scikit-learn: https://scikit-learn.org/stable/modules/generated/sklearn.linear_model.Ridge.html\n",
    "\n",
    "We train Ridge or Lasso models with different lambda values and check their performance on the validation data.\n",
    "The lambda value that results the best performance is then the optimal lambda. "
   ]
  },
  {
   "cell_type": "code",
   "execution_count": 72,
   "metadata": {
    "colab": {
     "base_uri": "https://localhost:8080/",
     "height": 555
    },
    "colab_type": "code",
    "executionInfo": {
     "elapsed": 3266,
     "status": "ok",
     "timestamp": 1596436131187,
     "user": {
      "displayName": "Haozhe Zhang",
      "photoUrl": "https://lh3.googleusercontent.com/a-/AOh14GhewCb1FImnjURCLugyfalL8wVXJomnuoEHUckN=s64",
      "userId": "15943369882491692800"
     },
     "user_tz": -480
    },
    "id": "SvXcAGW1oHq1",
    "outputId": "25a38d1f-013f-4b0a-9cbb-3f08b68c0371"
   },
   "outputs": [
    {
     "name": "stdout",
     "output_type": "stream",
     "text": [
      "Ridge lambda: 1\n",
      "Lasso lambda: 0.001\n"
     ]
    },
    {
     "data": {
      "image/png": "[encoded data removed]",
      "text/plain": [
       "<Figure size 432x288 with 1 Axes>"
      ]
     },
     "metadata": {
      "needs_background": "light"
     },
     "output_type": "display_data"
    },
    {
     "data": {
      "image/png": "[encoded data removed]",
      "text/plain": [
       "<Figure size 432x288 with 1 Axes>"
      ]
     },
     "metadata": {
      "needs_background": "light"
     },
     "output_type": "display_data"
    }
   ],
   "source": [
    "# The function takes the training and validation data as inputs, and \n",
    "# returns the lambda value that results the minimal mse\n",
    "# We use is_ridge to indicate which the model is considered.\n",
    "# is_ridge = True indicates Ridge while is_ridge = False indicates Lasso\n",
    "def choose_hyper_param(X_train_n, y_train_n, X_train_v, y_train_v, is_ridge: bool):\n",
    "    mse_arr = []\n",
    "    lam_arr = []\n",
    "\n",
    "    # Try lambda values from 10^-4 to 10^3. \n",
    "    # Record the mse and the lambda values in mse_arr and lam_arr\n",
    "    \n",
    "    for pow_lam in range(-4, 3):\n",
    "        lam = 10 ** pow_lam\n",
    "        if is_ridge is True:\n",
    "            clif = Ridge(alpha = lam)\n",
    "            clif.fit(X_train_n, y_train_n)\n",
    "            y_predicted = clif.predict(X_train_v)\n",
    "        elif is_ridge is False:\n",
    "            clif = Lasso(alpha = lam)\n",
    "            clif.fit(X_train_n, y_train_n)\n",
    "            y_predicted = clif.predict(X_train_v)\n",
    "        mse = np.dot((y_train_v-y_predicted).T, (y_train_v-y_predicted))/(len(y_train_v)) # compute the mse for this lam\n",
    "        mse_arr.append(mse) \n",
    "        lam_arr.append(lam)\n",
    "\n",
    "\n",
    "    # get the index of the lambda value that has the minimal use\n",
    "    lambda_idx_min = np.argmin(np.array(mse_arr))\n",
    "\n",
    "    # plot of the lambda values and their mse\n",
    "    plt.figure()\n",
    "    plt.semilogx(lam_arr, mse_arr)\n",
    "\n",
    "    # return the optimal lambda value\n",
    "    return lam_arr[lambda_idx_min]\n",
    "\n",
    "# call the function to choose the lambda for Ridge and Lasso\n",
    "lam_ridge = choose_hyper_param(X_train_n, y_train_n, X_train_v, y_train_v, True)\n",
    "lam_lasso = choose_hyper_param(X_train_n, y_train_n, X_train_v, y_train_v, False)\n",
    "\n",
    "print(\"Ridge lambda:\", lam_ridge)\n",
    "print(\"Lasso lambda:\", lam_lasso)"
   ]
  },
  {
   "cell_type": "markdown",
   "metadata": {
    "colab_type": "text",
    "id": "FAuX0uU5k9qD"
   },
   "source": [
    "### **Task 12**:\n",
    "Once you’ve obtained the optimal lambdas for Ridge and Lasso, train these models using these lambdas on the full training data. Then report\n",
    "the training and test error."
   ]
  },
  {
   "cell_type": "code",
   "execution_count": 73,
   "metadata": {
    "colab": {
     "base_uri": "https://localhost:8080/",
     "height": 221
    },
    "colab_type": "code",
    "executionInfo": {
     "elapsed": 3259,
     "status": "ok",
     "timestamp": 1596436131187,
     "user": {
      "displayName": "Haozhe Zhang",
      "photoUrl": "https://lh3.googleusercontent.com/a-/AOh14GhewCb1FImnjURCLugyfalL8wVXJomnuoEHUckN=s64",
      "userId": "15943369882491692800"
     },
     "user_tz": -480
    },
    "id": "VmwHESkg77zK",
    "outputId": "9bb9c1cf-1649-40e6-9162-2244525d9446"
   },
   "outputs": [
    {
     "name": "stdout",
     "output_type": "stream",
     "text": [
      "For Ridge Regression with using degree 2 polynomial expansion and lambda = 1.0000\n",
      "--------------------------------------------------------------------------------\n",
      "\n",
      "MSE (Training) = 0.4952\n",
      "MSE (Testing)  = 0.5126\n",
      "\n",
      "\n",
      "For Lasso with using degree 2 polynomial expansion and lambda = 0.0010\n",
      "---------------------------------------------------------------------\n",
      "\n",
      "MSE (Training) = 0.4966\n",
      "MSE (Testing)  = 0.5101\n"
     ]
    }
   ],
   "source": [
    "# TODO: train the Ridge and Lasso models using the optimal parameters, and\n",
    "#       report their MSE\n",
    "\n",
    "Ridge_tr = Ridge(alpha = 1)\n",
    "Ridge_tr.fit(X_train, y_train)\n",
    "y_tr_ri = Ridge_tr.predict(X_train)\n",
    "\n",
    "Ridge_te = Ridge(alpha = 1)\n",
    "Ridge_te.fit(X_train, y_train)\n",
    "y_te_ri = Ridge_te.predict(X_test)\n",
    "\n",
    "Lasso_tr = Lasso(alpha = 0.001)\n",
    "Lasso_tr.fit(X_train, y_train)\n",
    "y_tr_la = Lasso_tr.predict(X_train)\n",
    "\n",
    "Lasso_te = Lasso(alpha = 0.001)\n",
    "Lasso_te.fit(X_train, y_train)\n",
    "y_te_la = Lasso_te.predict(X_test)\n",
    "\n",
    "# Hints: train these models on the full training data\n",
    "mse_ridge_train = np.dot((y_train-y_tr_ri).T, (y_train-y_tr_ri))/(len(y_train))\n",
    "mse_ridge_test = np.dot((y_test-y_te_ri).T, (y_test-y_te_ri))/(len(y_test))\n",
    "mse_lasso_train = np.dot((y_train-y_tr_la).T, (y_train-y_tr_la))/(len(y_train))\n",
    "mse_lasso_test = np.dot((y_test-y_te_la).T, (y_test-y_te_la))/(len(y_test))\n",
    "\n",
    "\n",
    "# Report the result\n",
    "print('For Ridge Regression with using degree %d polynomial expansion and lambda = %.4f' % (2, lam_ridge))\n",
    "print('--------------------------------------------------------------------------------\\n')\n",
    "print('MSE (Training) = %.4f' % mse_ridge_train)\n",
    "print('MSE (Testing)  = %.4f' % mse_ridge_test)\n",
    "\n",
    "print('\\n\\nFor Lasso with using degree %d polynomial expansion and lambda = %.4f' % (2, lam_lasso))\n",
    "print('---------------------------------------------------------------------\\n')\n",
    "print('MSE (Training) = %.4f' % mse_lasso_train)\n",
    "print('MSE (Testing)  = %.4f' % mse_lasso_test)"
   ]
  },
  {
   "cell_type": "markdown",
   "metadata": {
    "colab_type": "text",
    "id": "Os9tKKLd8gMU"
   },
   "source": [
    "## Optional: Try Larger Degrees using K-fold Cross Validation\n",
    "\n"
   ]
  },
  {
   "cell_type": "markdown",
   "metadata": {
    "colab_type": "text",
    "id": "sfqRAlv1PBXi"
   },
   "source": [
    "### **Task 13**\n",
    "This is an optional task, which worths 5 bonus poitns.\n",
    "\n",
    "The task is to try basis expansions with higher degrees (up to degree 4) and find the degree that results the best performance. \n",
    "Instead of always using the same validation set, you should use k-fold cross validation to find the optimal hyperparameters. \n",
    "You should report the optimal hyperparameters (the basis expansion degree and the lambdas) and the MSE of the Ridge and Lasso when you apply the optimal hyperparameters. \n",
    "\n",
    "Hints: Use `KFold` to do this automatically. "
   ]
  },
  {
   "cell_type": "code",
   "execution_count": 56,
   "metadata": {},
   "outputs": [],
   "source": [
    "import numpy as np\n",
    "import matplotlib.pyplot as plt\n",
    "import _pickle as cp\n",
    "from sklearn.preprocessing import StandardScaler, PolynomialFeatures \n",
    "from sklearn.linear_model import Ridge, Lasso\n",
    "from sklearn.model_selection import KFold\n",
    "import warnings\n",
    "warnings.filterwarnings(\"ignore\")\n",
    "\n",
    "X, y = cp.load(open('winequality-white.pickle', 'rb'))"
   ]
  },
  {
   "cell_type": "code",
   "execution_count": 55,
   "metadata": {
    "scrolled": true
   },
   "outputs": [],
   "source": [
    "def split_data(X, y, split_coeff):\n",
    "    N, _ = X.shape # get the number of records (rows)\n",
    "    train_size = int(split_coeff * N) # use the first split_coeff of the data as the training data\n",
    "    X_train = X[:train_size] # the first training_size records\n",
    "    y_train = y[:train_size]\n",
    "    X_test = X[train_size:] # the last test_size records\n",
    "    y_test = y[train_size:]\n",
    "    return X_train, y_train, X_test, y_test\n",
    "\n",
    "# expand basis, degree = 1,2,3,4\n",
    "def expand_basis(X, degree):\n",
    "    # TODO: expand the basis of X for the input degree\n",
    "    poly = PolynomialFeatures(degree)\n",
    "    X = poly.fit_transform(X)\n",
    "    return X\n",
    "\n",
    "# use standardscaler to sandardize data\n",
    "def standardize(X_train, X_test):\n",
    "    s = StandardScaler()\n",
    "    s.fit(X_train)\n",
    "    X_train = s.transform(X_train)\n",
    "    s_mean = s.mean_\n",
    "    s_scale = s.scale_\n",
    "    X_test = (X_test-s_mean)/s_scale\n",
    "    return X_train, X_test\n",
    "\n",
    "# use KFold to divide train into training and validation\n",
    "def Kfold(X,n):\n",
    "    X_train_n = []\n",
    "    X_train_v = []\n",
    "    y_train_n = []\n",
    "    y_train_v = []\n",
    "    kf = KFold(n_splits = n)\n",
    "    for train_index , test_index in kf.split(X):  \n",
    "        X_train_n.append(X[train_index])\n",
    "        X_train_v.append(X[test_index])\n",
    "        y_train_n.append(y[train_index])\n",
    "        y_train_v.append(y[test_index])\n",
    "    return X_train_n, X_train_v, y_train_n, y_train_v\n",
    "\n",
    "def data_prepare(X, y, n, degree):\n",
    "    X_train, y_train, X_test, y_test = split_data(X, y, 0.8)\n",
    "    X_train, X_test = standardize(X_train, X_test)\n",
    "    X_train = expand_basis(X_train, degree)\n",
    "    X_test = expand_basis(X_test, degree)\n",
    "    X_train_n, X_train_v, y_train_n, y_train_v = Kfold(X_train, n)\n",
    "    for i in range(n):\n",
    "        X_train_n[i], X_train_v[i] = standardize(X_train_n[i], X_train_v[i])\n",
    "        i += 1\n",
    "    return X_train, y_train, X_train_n, y_train_n, X_train_v, y_train_v, X_test, y_test"
   ]
  },
  {
   "cell_type": "code",
   "execution_count": 51,
   "metadata": {
    "scrolled": true
   },
   "outputs": [],
   "source": [
    "# X,y = input dataset, n = proportion of training and validation dataset, degree = demension of expandsion\n",
    "\n",
    "def choose_hyper_param(X, y, n, degree, lam_min, lam_max, is_ridge: bool, is_plot: bool):\n",
    "\n",
    "    X_train, y_train, X_train_n, y_train_n, X_train_v, y_train_v, X_test, y_test = data_prepare(X, y, n, degree)\n",
    "    lam_arr = []\n",
    "    mse_average_arr = []\n",
    "        \n",
    "    for pow_lam in range(lam_min, lam_max):\n",
    "        lam = 10 ** pow_lam\n",
    "        mse_arr = []\n",
    "        \n",
    "        for i in range(n):\n",
    "            if is_ridge is True:\n",
    "                clif = Ridge(alpha = lam)\n",
    "                clif.fit(X_train_n[i], y_train_n[i])\n",
    "                y_predicted = clif.predict(X_train_v[i])\n",
    "                mse = np.dot((y_train_v[i]-y_predicted).T, (y_train_v[i]-y_predicted))/(len(y_train_v[i])) # compute the mse for this lam\n",
    "                mse_arr.append(mse)\n",
    "                \n",
    "            elif is_ridge is False:\n",
    "                clif = Lasso(alpha = lam)\n",
    "                clif.fit(X_train_n[i], y_train_n[i])\n",
    "                y_predicted = clif.predict(X_train_v[i])\n",
    "                mse = np.dot((y_train_v[i]-y_predicted).T, (y_train_v[i]-y_predicted))/(len(y_train_v[i])) # compute the mse for this lam\n",
    "                mse_arr.append(mse) \n",
    "                \n",
    "        mse_average_arr.append(np.mean(mse_arr))\n",
    "        lam_arr.append(lam)\n",
    "\n",
    "    # get the index of the lambda value that has the minimal use\n",
    "    lambda_idx_min = np.argmin(np.array(mse_average_arr))\n",
    "    mse_idx_min = np.min(mse_average_arr)\n",
    "\n",
    "    # plot of the lambda values and their mse\n",
    "    if is_plot is True:\n",
    "        if is_ridge is True:\n",
    "            plt.figure()\n",
    "            plt.semilogx(lam_arr, mse_average_arr)\n",
    "            plt.title('Ridge')\n",
    "        elif is_ridge is False:\n",
    "            plt.figure()\n",
    "            plt.semilogx(lam_arr, mse_average_arr)\n",
    "            plt.title('Lasso')\n",
    "                \n",
    "    # return the optimal lambda value\n",
    "    return lam_arr[lambda_idx_min], mse_idx_min "
   ]
  },
  {
   "cell_type": "code",
   "execution_count": 53,
   "metadata": {
    "scrolled": true
   },
   "outputs": [],
   "source": [
    "def choose_degree(X, y, n, degree, lam_min, lam_max):\n",
    "    mse_ridge_list = []\n",
    "    lamda_ridge_list = []\n",
    "    mse_lasso_list = []\n",
    "    lamda_lasso_list = []\n",
    "    \n",
    "    for i in range(degree):\n",
    "        min_lam_ridge, min_mse_ridge = choose_hyper_param(X, y, n, i+1, lam_min, lam_max, True, False)\n",
    "        min_lam_lasso, min_mse_lasso = choose_hyper_param(X, y, n, i+1, lam_min, lam_max, False, False)\n",
    "        \n",
    "        mse_ridge_list.append(min_mse_ridge)\n",
    "        lamda_ridge_list.append(min_lam_ridge)\n",
    "        mse_lasso_list.append(min_mse_lasso)\n",
    "        lamda_lasso_list.append(min_lam_lasso)\n",
    "        \n",
    "    lamda_ridge_min = np.argmin(np.array(mse_ridge_list))\n",
    "    mse_ridge_min = np.min(mse_ridge_list)    \n",
    "    degree_ridge_min = np.argmin(np.array(mse_ridge_list)) + 1\n",
    "    \n",
    "    lamda_lasso_min = np.argmin(np.array(mse_lasso_list))\n",
    "    mse_lasso_min = np.min(mse_lasso_list)\n",
    "    degree_lasso_min = np.argmin(np.array(mse_lasso_list)) + 1\n",
    "    \n",
    "    \n",
    "    print('-'*25+'Ridge'+'-'*25)\n",
    "    print('Best Degree = %s'%degree_ridge_min)\n",
    "    print('Min MSE in Degree %s = %s'%(degree_ridge_min,mse_ridge_min))\n",
    "    print('Lamda for Min MSE = %s'%lamda_ridge_list[lamda_ridge_min])\n",
    "    choose_hyper_param(X, y, n, degree_ridge_min, lam_min, lam_max, True, True)\n",
    "\n",
    "    \n",
    "    print('-'*25+'Lasso'+'-'*25)\n",
    "    print('Best Degree = %s'%degree_lasso_min)\n",
    "    print('Min MSE in Degree %s = %s'%(degree_lasso_min,mse_lasso_min))\n",
    "    print('Lamda for Min MSE = %s'%lamda_lasso_list[lamda_lasso_min])\n",
    "    choose_hyper_param(X, y, n, degree_lasso_min, lam_min, lam_max, False, True)\n",
    "    \n",
    "    return lamda_ridge_list[lamda_ridge_min], lamda_lasso_list[lamda_lasso_min], mse_ridge_min, mse_lasso_min, degree_ridge_min, degree_lasso_min"
   ]
  },
  {
   "cell_type": "code",
   "execution_count": 54,
   "metadata": {},
   "outputs": [
    {
     "name": "stdout",
     "output_type": "stream",
     "text": [
      "-------------------------Ridge-------------------------\n",
      "Best Degree = 2\n",
      "Min MSE in Degree 2 = 0.5389005082633005\n",
      "Lamda for Min MSE = 10\n",
      "-------------------------Lasso-------------------------\n",
      "Best Degree = 2\n",
      "Min MSE in Degree 2 = 0.5377687045346315\n",
      "Lamda for Min MSE = 0.001\n"
     ]
    },
    {
     "data": {
      "image/png": "[encoded data removed]",
      "text/plain": [
       "<Figure size 432x288 with 1 Axes>"
      ]
     },
     "metadata": {
      "needs_background": "light"
     },
     "output_type": "display_data"
    },
    {
     "data": {
      "image/png": "[encoded data removed]",
      "text/plain": [
       "<Figure size 432x288 with 1 Axes>"
      ]
     },
     "metadata": {
      "needs_background": "light"
     },
     "output_type": "display_data"
    }
   ],
   "source": [
    "lamda_ridge_min, lamda_lasso_min, mse_ridge_min, mse_lasso_min, degree_ridge_min, degree_lasso_min = choose_degree(X, y, 5, 4, -10, 10)"
   ]
  },
  {
   "cell_type": "code",
   "execution_count": 78,
   "metadata": {},
   "outputs": [
    {
     "name": "stdout",
     "output_type": "stream",
     "text": [
      "For Ridge Regression with using degree 2 polynomial expansion and lambda = 10.0000\n",
      "--------------------------------------------------------------------------------\n",
      "\n",
      "MSE (Training) = 0.4956\n",
      "MSE (Testing)  = 0.5122\n",
      "\n",
      "\n",
      "For Lasso with using degree 2 polynomial expansion and lambda = 0.0010\n",
      "---------------------------------------------------------------------\n",
      "\n",
      "MSE (Training) = 0.4966\n",
      "MSE (Testing)  = 0.5101\n"
     ]
    }
   ],
   "source": [
    "# So we can use the best degree : 2\n",
    "# The best lamda for ridge : 10\n",
    "# The best lamda for lasso : 0.001\n",
    "# to find the Bias of trianing data and Varaince of testing data.\n",
    "\n",
    "# 1. split the data (X, y) into training data (X_train, y_train) and test data (X_test, y_test)\n",
    "X_train, y_train, X_test, y_test = split_data(X, y, 0.8)\n",
    "\n",
    "# 2. standardize the training data and do the same transformation to the test data\n",
    "s = StandardScaler()\n",
    "s.fit(X_train)\n",
    "X_train = s.transform(X_train)\n",
    "s_mean = s.mean_\n",
    "s_scale = s.scale_\n",
    "X_test = (X_test-s_mean)/s_scale\n",
    "\n",
    "# 3. expand the basis of the training data and test data\n",
    "X_train = expand_basis(X_train, 2)\n",
    "X_test = expand_basis(X_test, 2)\n",
    "\n",
    "# 4. standardize the training data again and do the same transformation to the test data\n",
    "s.fit(X_train)\n",
    "X_train_final = s.transform(X_train)\n",
    "s_mean = s.mean_\n",
    "s_scale = s.scale_\n",
    "X_test_final = (X_test-s_mean)/s_scale\n",
    "\n",
    "# ridge\n",
    "ridge_reg_final = Ridge(alpha = lamda_ridge_min)\n",
    "\n",
    "ridge_predict_train_final = ridge_reg_final.fit(X_train_final,y_train).predict(X_train_final)\n",
    "mse_ridge_train_final = np.dot((y_train - ridge_predict_train_final).T,(y_train - ridge_predict_train_final))/(len(y_train))\n",
    "\n",
    "ridge_predict_test_final = ridge_reg_final.fit(X_train_final,y_train).predict(X_test_final)\n",
    "mse_ridge_test_final = np.dot((y_test - ridge_predict_test_final).T,(y_test - ridge_predict_test_final))/(len(y_test))\n",
    "\n",
    "lasso_reg_final = Lasso(alpha = lamda_lasso_min)\n",
    "\n",
    "lasso_predict_train_final = lasso_reg_final.fit(X_train_final,y_train).predict(X_train_final)\n",
    "mse_lasso_train_final = np.dot((y_train - lasso_predict_train_final).T,(y_train - lasso_predict_train_final))/(len(y_train))\n",
    "\n",
    "lasso_predict_test_final = lasso_reg_final.fit(X_train_final,y_train).predict(X_test_final)\n",
    "mse_lasso_test_final = np.dot((y_test - lasso_predict_test_final).T,(y_test - lasso_predict_test_final))/(len(y_test))\n",
    "\n",
    "\n",
    "print('For Ridge Regression with using degree %d polynomial expansion and lambda = %.4f' % (2, lamda_ridge_min))\n",
    "print('--------------------------------------------------------------------------------\\n')\n",
    "print('MSE (Training) = %.4f' % mse_ridge_train_final)\n",
    "print('MSE (Testing)  = %.4f' % mse_ridge_test_final)\n",
    "\n",
    "print('\\n\\nFor Lasso with using degree %d polynomial expansion and lambda = %.4f' % (2, lamda_lasso_min))\n",
    "print('---------------------------------------------------------------------\\n')\n",
    "print('MSE (Training) = %.4f' % mse_lasso_train_final)\n",
    "print('MSE (Testing)  = %.4f' % mse_lasso_test_final)"
   ]
  },
  {
   "cell_type": "code",
   "execution_count": null,
   "metadata": {},
   "outputs": [],
   "source": []
  }
 ],
 "metadata": {
  "colab": {
   "authorship_tag": "ABX9TyP96ktvsOI4PiuW52tcNLjx",
   "collapsed_sections": [],
   "name": "Practical1_starter.ipynb",
   "provenance": [],
   "toc_visible": true
  },
  "kernelspec": {
   "display_name": "Python 3",
   "language": "python",
   "name": "python3"
  },
  "language_info": {
   "codemirror_mode": {
    "name": "ipython",
    "version": 3
   },
   "file_extension": ".py",
   "mimetype": "text/x-python",
   "name": "python",
   "nbconvert_exporter": "python",
   "pygments_lexer": "ipython3",
   "version": "3.8.8"
  }
 },
 "nbformat": 4,
 "nbformat_minor": 4
}
